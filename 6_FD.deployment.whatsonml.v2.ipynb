{
 "nbformat": 4,
 "nbformat_minor": 2,
 "metadata": {
  "language_info": {
   "name": "python",
   "codemirror_mode": {
    "name": "ipython",
    "version": 3
   },
   "version": "3.7.4-final"
  },
  "orig_nbformat": 2,
  "file_extension": ".py",
  "mimetype": "text/x-python",
  "name": "python",
  "npconvert_exporter": "python",
  "pygments_lexer": "ipython3",
  "version": 3,
  "kernelspec": {
   "name": "python37464bitpy3venv6d6ad2ecee8946ad950cf70b9875c8c2",
   "display_name": "Python 3.7.4 64-bit ('py3': venv)"
  }
 },
 "cells": [
  {
   "cell_type": "code",
   "execution_count": 1,
   "metadata": {},
   "outputs": [
    {
     "output_type": "stream",
     "name": "stdout",
     "text": "Creating SparkContext...\nSparkContext created.\nMaster URL: local[*]\n"
    },
    {
     "output_type": "display_data",
     "data": {
      "text/plain": "<IPython.core.display.Markdown object>",
      "text/markdown": "**Do not forget to close the session with spark.stop()**"
     },
     "metadata": {}
    }
   ],
   "source": [
    "#https://blogs.oracle.com/datascience/fraud-detection-using-autoencoders-in-keras-with-a-tensorflow-backend\n",
    "\n",
    "%run -i start_spark.py --master local[*] --driver-memory 1g\n",
    "#%run -i start_spark.py --master local[2] spark://192.168.0.100:7077"
   ]
  },
  {
   "cell_type": "markdown",
   "metadata": {},
   "source": [
    "# Model deployment\n",
    "\n",
    "In the following the selected model is deployed in Watson Machine Learning to setup a REST API service to be offered to the client.\n",
    "\n",
    "References:\n",
    "\n",
    "<ol>\n",
    "    <li><a href='https://dataplatform.cloud.ibm.com/docs/content/wsj/analyze-data/ml-python-mnist-tutorial.html'>Watson Machine Learning Python client tutorial: Build a TensorFlow model to recognize handwritten digits using the MNIST data set</a></li>\n",
    "    <li><a href='https://dataplatform.cloud.ibm.com/exchange/public/entry/view/946c86bf96596c10cc651e52501296eb'>Save, compress, and deploy a handwritten digit prediction Keras model</a></li>\n",
    "</ol>"
   ]
  },
  {
   "cell_type": "code",
   "execution_count": 1,
   "metadata": {},
   "outputs": [
    {
     "output_type": "stream",
     "name": "stdout",
     "text": "Found existing installation: watson-machine-learning-client-V4 1.0.66\nUninstalling watson-machine-learning-client-V4-1.0.66:\n  Successfully uninstalled watson-machine-learning-client-V4-1.0.66\nCollecting watson-machine-learning-client\n  Downloading watson_machine_learning_client-1.0.378-py3-none-any.whl (536 kB)\n\u001b[K     |████████████████████████████████| 536 kB 1.6 MB/s \n\u001b[?25hRequirement already satisfied: tqdm in /Users/francesco/.virtualenvs/py3/lib/python3.7/site-packages (from watson-machine-learning-client) (4.39.0)\nRequirement already satisfied: requests in /Users/francesco/.virtualenvs/py3/lib/python3.7/site-packages (from watson-machine-learning-client) (2.22.0)\nRequirement already satisfied: certifi in /Users/francesco/.virtualenvs/py3/lib/python3.7/site-packages (from watson-machine-learning-client) (2019.9.11)\nRequirement already satisfied: urllib3 in /Users/francesco/.virtualenvs/py3/lib/python3.7/site-packages (from watson-machine-learning-client) (1.25.7)\nRequirement already satisfied: lomond in /Users/francesco/.virtualenvs/py3/lib/python3.7/site-packages (from watson-machine-learning-client) (0.3.3)\nRequirement already satisfied: ibm-cos-sdk in /Users/francesco/.virtualenvs/py3/lib/python3.7/site-packages (from watson-machine-learning-client) (2.6.0)\nRequirement already satisfied: pandas in /Users/francesco/.virtualenvs/py3/lib/python3.7/site-packages (from watson-machine-learning-client) (0.25.3)\nRequirement already satisfied: tabulate in /Users/francesco/.virtualenvs/py3/lib/python3.7/site-packages (from watson-machine-learning-client) (0.8.6)\nRequirement already satisfied: chardet<3.1.0,>=3.0.2 in /Users/francesco/.virtualenvs/py3/lib/python3.7/site-packages (from requests->watson-machine-learning-client) (3.0.4)\nRequirement already satisfied: idna<2.9,>=2.5 in /Users/francesco/.virtualenvs/py3/lib/python3.7/site-packages (from requests->watson-machine-learning-client) (2.8)\nRequirement already satisfied: six>=1.10.0 in /Users/francesco/.virtualenvs/py3/lib/python3.7/site-packages (from lomond->watson-machine-learning-client) (1.13.0)\nRequirement already satisfied: ibm-cos-sdk-s3transfer==2.6.0 in /Users/francesco/.virtualenvs/py3/lib/python3.7/site-packages (from ibm-cos-sdk->watson-machine-learning-client) (2.6.0)\nRequirement already satisfied: jmespath<1.0.0,>=0.7.1 in /Users/francesco/.virtualenvs/py3/lib/python3.7/site-packages (from ibm-cos-sdk->watson-machine-learning-client) (0.9.5)\nRequirement already satisfied: ibm-cos-sdk-core==2.6.0 in /Users/francesco/.virtualenvs/py3/lib/python3.7/site-packages (from ibm-cos-sdk->watson-machine-learning-client) (2.6.0)\nRequirement already satisfied: numpy>=1.13.3 in /Users/francesco/.virtualenvs/py3/lib/python3.7/site-packages (from pandas->watson-machine-learning-client) (1.17.4)\nRequirement already satisfied: pytz>=2017.2 in /Users/francesco/.virtualenvs/py3/lib/python3.7/site-packages (from pandas->watson-machine-learning-client) (2019.3)\nRequirement already satisfied: python-dateutil>=2.6.1 in /Users/francesco/.virtualenvs/py3/lib/python3.7/site-packages (from pandas->watson-machine-learning-client) (2.8.1)\nRequirement already satisfied: docutils<0.16,>=0.10 in /Users/francesco/.virtualenvs/py3/lib/python3.7/site-packages (from ibm-cos-sdk-core==2.6.0->ibm-cos-sdk->watson-machine-learning-client) (0.15.2)\nInstalling collected packages: watson-machine-learning-client\nSuccessfully installed watson-machine-learning-client-1.0.378\n"
    }
   ],
   "source": [
    "# Install the WML client API\n",
    "\n",
    "#!pip uninstall  watson-machine-learning-client-V4 -y\n",
    "#!pip install watson-machine-learning-client"
   ]
  },
  {
   "cell_type": "code",
   "execution_count": 27,
   "metadata": {},
   "outputs": [],
   "source": [
    "from watson_machine_learning_client import WatsonMachineLearningAPIClient\n",
    "\n",
    "import coursera_common as cc\n",
    "import os\n",
    "import numpy as np"
   ]
  },
  {
   "cell_type": "code",
   "execution_count": 3,
   "metadata": {},
   "outputs": [
    {
     "output_type": "execute_result",
     "data": {
      "text/plain": "'1.0.378'"
     },
     "metadata": {},
     "execution_count": 3
    }
   ],
   "source": [
    "\n",
    "WML_CREDENTIALS = {\n",
    "  \"apikey\": \"********\",\n",
    "  \"iam_apikey_description\": \"Auto-generated for key d9fb10dd-359b-4335-a749-9bb413fe9782\",\n",
    "  \"iam_apikey_name\": \"Coursera_AdvAICapstone\",\n",
    "  \"iam_role_crn\": \"crn:v1:bluemix:public:iam::::serviceRole:Writer\",\n",
    "  \"iam_serviceid_crn\": \"********\",\n",
    "  \"instance_id\": \"********\",\n",
    "  \"url\": \"https://us-south.ml.cloud.ibm.com\"\n",
    "}\n",
    "\n",
    "wml_client = WatsonMachineLearningAPIClient(WML_CREDENTIALS)\n",
    "\n",
    "wml_client.version"
   ]
  },
  {
   "cell_type": "markdown",
   "metadata": {},
   "source": [
    "The selected model trained over the whole dataset is exported in H5 format and compressed as zipped tarball for the deployment."
   ]
  },
  {
   "cell_type": "code",
   "execution_count": 12,
   "metadata": {},
   "outputs": [
    {
     "output_type": "execute_result",
     "data": {
      "text/plain": "0"
     },
     "metadata": {},
     "execution_count": 12
    }
   ],
   "source": [
    "#compress keras model\n",
    "model_filename = 'perceptron.all.v1.h5'\n",
    "tar_filename = model_filename + '.tgz'\n",
    "cmdstring = 'cd models && tar -zcvf ' + tar_filename + ' ' + model_filename\n",
    "os.system(cmdstring)"
   ]
  },
  {
   "cell_type": "code",
   "execution_count": 5,
   "metadata": {},
   "outputs": [
    {
     "output_type": "stream",
     "name": "stdout",
     "text": "Reading data/payments_enc.v6.parquet.json\nlabel_column_names['step', 'amount', 'oldbalanceOrg', 'oldbalanceDest', 'vOrig', 'vDest', 'typeEnc']\n"
    }
   ],
   "source": [
    "corr_features_cols, features_cols, dl_features_cols = cc.read_feature_cols(cc.FEATURES_CONFIG_FILENAME)\n",
    "print(f'label_column_names{dl_features_cols}')"
   ]
  },
  {
   "cell_type": "code",
   "execution_count": 17,
   "metadata": {},
   "outputs": [
    {
     "output_type": "execute_result",
     "data": {
      "text/plain": "{'metadata': {'guid': 'a5e20f77-5289-4427-be14-e74e8e28330b',\n  'url': 'https://us-south.ml.cloud.ibm.com/v3/wml_instances/cabc8f15-b6a5-408f-bad1-41c87727ad81/published_models/a5e20f77-5289-4427-be14-e74e8e28330b',\n  'created_at': '2020-03-24T21:06:25.894Z',\n  'modified_at': '2020-03-24T21:06:25.950Z'},\n 'entity': {'runtime_environment': 'python-3.6',\n  'learning_configuration_url': 'https://us-south.ml.cloud.ibm.com/v3/wml_instances/cabc8f15-b6a5-408f-bad1-41c87727ad81/published_models/a5e20f77-5289-4427-be14-e74e8e28330b/learning_configuration',\n  'name': 'Coursera Advanced AI Model',\n  'learning_iterations_url': 'https://us-south.ml.cloud.ibm.com/v3/wml_instances/cabc8f15-b6a5-408f-bad1-41c87727ad81/published_models/a5e20f77-5289-4427-be14-e74e8e28330b/learning_iterations',\n  'feedback_url': 'https://us-south.ml.cloud.ibm.com/v3/wml_instances/cabc8f15-b6a5-408f-bad1-41c87727ad81/published_models/a5e20f77-5289-4427-be14-e74e8e28330b/feedback',\n  'latest_version': {'url': 'https://us-south.ml.cloud.ibm.com/v3/ml_assets/models/a5e20f77-5289-4427-be14-e74e8e28330b/versions/32a8bc0c-4c53-44e8-929a-3f5a017b08be',\n   'guid': '32a8bc0c-4c53-44e8-929a-3f5a017b08be',\n   'created_at': '2020-03-24T21:06:25.950Z'},\n  'model_type': 'tensorflow-1.15',\n  'deployments': {'count': 0,\n   'url': 'https://us-south.ml.cloud.ibm.com/v3/wml_instances/cabc8f15-b6a5-408f-bad1-41c87727ad81/published_models/a5e20f77-5289-4427-be14-e74e8e28330b/deployments'},\n  'evaluation_metrics_url': 'https://us-south.ml.cloud.ibm.com/v3/wml_instances/cabc8f15-b6a5-408f-bad1-41c87727ad81/published_models/a5e20f77-5289-4427-be14-e74e8e28330b/evaluation_metrics'}}"
     },
     "metadata": {},
     "execution_count": 17
    }
   ],
   "source": [
    "model_props = {\n",
    "    wml_client.repository.ModelMetaNames.NAME: 'Coursera Advanced AI Model',\n",
    "    wml_client.repository.ModelMetaNames.FRAMEWORK_NAME: 'tensorflow',\n",
    "    wml_client.repository.ModelMetaNames.FRAMEWORK_VERSION: '1.15',\n",
    "    wml_client.repository.ModelMetaNames.RUNTIME_NAME: 'python',\n",
    "    wml_client.repository.ModelMetaNames.RUNTIME_VERSION: '3.6',\n",
    "    wml_client.repository.ModelMetaNames.FRAMEWORK_LIBRARIES: [{'name':'keras', 'version': '2.2.4'}]\n",
    "}\n",
    "\n",
    "published_model_details = wml_client.repository.store_model(model=f'models/{tar_filename}', meta_props=model_props , label_column_names=dl_features_cols)     \n",
    "published_model_details"
   ]
  },
  {
   "cell_type": "code",
   "execution_count": 19,
   "metadata": {},
   "outputs": [
    {
     "output_type": "stream",
     "name": "stdout",
     "text": "Deploy model a5e20f77-5289-4427-be14-e74e8e28330b\n\n\n#######################################################################################\n\nSynchronous deployment creation for uid: 'a5e20f77-5289-4427-be14-e74e8e28330b' started\n\n#######################################################################################\n\n\nINITIALIZING\nDEPLOY_IN_PROGRESS\nDEPLOY_SUCCESS\n\n\n------------------------------------------------------------------------------------------------\nSuccessfully finished deployment creation, deployment_uid='072c90fe-f912-4fca-8906-9ac680a7e5e9'\n------------------------------------------------------------------------------------------------\n\n\n"
    },
    {
     "output_type": "execute_result",
     "data": {
      "text/plain": "{'metadata': {'guid': '072c90fe-f912-4fca-8906-9ac680a7e5e9',\n  'url': 'https://us-south.ml.cloud.ibm.com/v3/wml_instances/cabc8f15-b6a5-408f-bad1-41c87727ad81/deployments/072c90fe-f912-4fca-8906-9ac680a7e5e9',\n  'created_at': '2020-03-24T21:07:04.991Z',\n  'modified_at': '2020-03-24T21:07:05.247Z'},\n 'entity': {'runtime_environment': 'python-3.6',\n  'name': 'Coursera Advanced AI Model (Deployed)',\n  'scoring_url': 'https://us-south.ml.cloud.ibm.com/v3/wml_instances/cabc8f15-b6a5-408f-bad1-41c87727ad81/deployments/072c90fe-f912-4fca-8906-9ac680a7e5e9/online',\n  'deployable_asset': {'name': 'Coursera Advanced AI Model',\n   'url': 'https://us-south.ml.cloud.ibm.com/v3/wml_instances/cabc8f15-b6a5-408f-bad1-41c87727ad81/published_models/a5e20f77-5289-4427-be14-e74e8e28330b',\n   'guid': 'a5e20f77-5289-4427-be14-e74e8e28330b',\n   'created_at': '2020-03-24T21:07:04.941Z',\n   'type': 'model'},\n  'description': 'Description of deployment',\n  'status_details': {'status': 'DEPLOY_SUCCESS'},\n  'model_type': 'tensorflow-1.15',\n  'status': 'DEPLOY_SUCCESS',\n  'type': 'online',\n  'deployed_version': {'url': 'https://us-south.ml.cloud.ibm.com/v3/ml_assets/models/a5e20f77-5289-4427-be14-e74e8e28330b/versions/32a8bc0c-4c53-44e8-929a-3f5a017b08be',\n   'guid': '32a8bc0c-4c53-44e8-929a-3f5a017b08be'}}}"
     },
     "metadata": {},
     "execution_count": 19
    }
   ],
   "source": [
    "model_uid = wml_client.repository.get_model_uid(published_model_details)\n",
    "print(f'Deploy model {model_uid}')\n",
    "deployment = wml_client.deployments.create(model_uid, 'Coursera Advanced AI Model (Deployed)')\n",
    "\n",
    "deployment"
   ]
  },
  {
   "cell_type": "code",
   "execution_count": 22,
   "metadata": {},
   "outputs": [
    {
     "output_type": "stream",
     "name": "stdout",
     "text": "------------------------------------  -------------------------------------  ------  --------------  ------------------------  ---------------  -------------\nGUID                                  NAME                                   TYPE    STATE           CREATED                   FRAMEWORK        ARTIFACT TYPE\n072c90fe-f912-4fca-8906-9ac680a7e5e9  Coursera Advanced AI Model (Deployed)  online  DEPLOY_SUCCESS  2020-03-24T21:07:04.991Z  tensorflow-1.15  model\n------------------------------------  -------------------------------------  ------  --------------  ------------------------  ---------------  -------------\n"
    }
   ],
   "source": [
    "wml_client.deployments.list()"
   ]
  },
  {
   "cell_type": "code",
   "execution_count": 23,
   "metadata": {},
   "outputs": [
    {
     "output_type": "stream",
     "name": "stdout",
     "text": "Scoring endpoint: https://us-south.ml.cloud.ibm.com/v3/wml_instances/cabc8f15-b6a5-408f-bad1-41c87727ad81/deployments/072c90fe-f912-4fca-8906-9ac680a7e5e9/online\n"
    }
   ],
   "source": [
    "scoring_endpoint = wml_client.deployments.get_scoring_url(deployment)\n",
    "print(f'Scoring endpoint: {scoring_endpoint}')"
   ]
  },
  {
   "cell_type": "markdown",
   "metadata": {},
   "source": [
    "The deployed model is therefore tested"
   ]
  },
  {
   "cell_type": "code",
   "execution_count": 34,
   "metadata": {},
   "outputs": [
    {
     "output_type": "stream",
     "name": "stdout",
     "text": "Loading data/autoencoder.x_test.v2.npy\nLoading data/autoencoder.y_test.v2.npy\n"
    }
   ],
   "source": [
    "if os.path.exists( cc.AUTOENC_X_TEST ):\n",
    "    print('Loading ' + cc.AUTOENC_X_TEST)\n",
    "    x_test = np.load( cc.AUTOENC_X_TEST )\n",
    "    print('Loading ' + cc.AUTOENC_Y_TEST)\n",
    "    y_test = np.load( cc.AUTOENC_Y_TEST )"
   ]
  },
  {
   "cell_type": "code",
   "execution_count": 39,
   "metadata": {},
   "outputs": [
    {
     "output_type": "stream",
     "name": "stdout",
     "text": "Testing deployed model...\nScore: Predicted [0.0] - Actual 0\n"
    }
   ],
   "source": [
    "print('Testing deployed model...')\n",
    "payment_data = x_test[0].tolist()\n",
    "\n",
    "scoring_payload = {'values': [payment_data]}\n",
    "scores = wml_client.deployments.score(scoring_endpoint, scoring_payload)\n",
    "print('Score: Predicted {} - Actual {}'.format(scores['values'][0], y_test[0]))"
   ]
  },
  {
   "cell_type": "code",
   "execution_count": 46,
   "metadata": {},
   "outputs": [
    {
     "output_type": "stream",
     "name": "stdout",
     "text": "Fraudolent transaction: [[-0.29694012 -0.28888892 -0.32524011  0.1595821  -0.71474652  1.98121586]]\nPrediction: Is Fraud? True\n"
    }
   ],
   "source": [
    "it = np.where(y_test == 1)\n",
    "\n",
    "y_test_t = y_test[it]\n",
    "\n",
    "print(f'Fraudolent transaction: [{x_test_t[0]}]')\n",
    "\n",
    "scoring_payload = {'values': [x_test_t[0].tolist()]}\n",
    "scores = wml_client.deployments.score(scoring_endpoint, scoring_payload)\n",
    "\n",
    "fraud_scoring_threshold = 0.1\n",
    "\n",
    "is_fraud = scores['values'][0][0] > fraud_scoring_threshold\n",
    "\n",
    "print(f'Prediction: Is Fraud? {is_fraud}')"
   ]
  }
 ]
}